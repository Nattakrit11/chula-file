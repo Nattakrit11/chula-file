{
  "nbformat": 4,
  "nbformat_minor": 0,
  "metadata": {
    "colab": {
      "provenance": [],
      "include_colab_link": true
    },
    "kernelspec": {
      "name": "python3",
      "display_name": "Python 3"
    },
    "language_info": {
      "name": "python"
    }
  },
  "cells": [
    {
      "cell_type": "markdown",
      "metadata": {
        "id": "view-in-github",
        "colab_type": "text"
      },
      "source": [
        "<a href=\"https://colab.research.google.com/github/Nattakrit11/chula-file/blob/main/Introduction%20to%20Digital%20lmaging/homework2.ipynb\" target=\"_parent\"><img src=\"https://colab.research.google.com/assets/colab-badge.svg\" alt=\"Open In Colab\"/></a>"
      ]
    },
    {
      "cell_type": "markdown",
      "source": [
        "# Homework #2"
      ],
      "metadata": {
        "id": "erlgB3Lv6kYR"
      }
    },
    {
      "cell_type": "markdown",
      "source": [
        "* copy this file into your drive\n",
        "```\n",
        "File -> Save a copy in Drive\n",
        "```\n",
        "* write the code in the cells provided for each questions\n",
        "* <font color=\"red\"> DO NOT DELETE or MODIFY </font> the first line of each cell (will be used to mark your homework, otherwise you will get 0)\n",
        "* <font color=\"red\"> DO NOT DELETE or MODIFY </font> function name, function input, and function output (return). Otherwise, you will get 0.\n",
        "* <font color=\"red\"> DO NOT ADD </font> anything outside the function (of the homeworkx_x cells). Otherwise, you will get 0.\n",
        "* Make sure homework2_1-2_3 can run properly and can be tested with any image (not rely just on your images); otherwise, your homework will not be marked.\n"
      ],
      "metadata": {
        "id": "KjMbmi5QYE2I"
      }
    },
    {
      "cell_type": "code",
      "source": [
        "!wget https://drive.google.com/uc?id=1o0UMPTyUFzX9CaQp-BwYXgkCho1Zo6yL  -O kitty55.png\n",
        "!wget https://drive.google.com/uc?id=1_-_yN30miNhzR9ZC5DHTiljH6LVq4hZz  -O clean_cat.png\n",
        "!wget https://drive.google.com/uc?id=1LEwFRI2vjSqQEd68lYwyuJ4JyJYPQX2m  -O blurry_noisy_cat.png\n",
        "!wget https://drive.google.com/uc?id=1lnO_PK81O54bLBUprBlo8-2x9smWYDcP  -O moodeng.jpg\n",
        "!wget https://drive.google.com/uc?id=1L5UFU_RyD5BAapUBc2HGl-RKtfgVGQKr  -O moodeng2.jpg"
      ],
      "metadata": {
        "id": "tNb7WbFd8V8-"
      },
      "execution_count": null,
      "outputs": []
    },
    {
      "cell_type": "code",
      "source": [
        "# homework2_1 --> do not modify/delete this first line and do not add anything before this line\n",
        "\n",
        "# import library for 2.1\n",
        "import cv2\n",
        "import numpy as np\n",
        "import matplotlib.pyplot as plt\n",
        "# you can add more library here\n",
        "\n",
        "\n",
        "def homework2_1(gray_image):\n",
        "    # input -> gray_image - type -> np.ndarray, size of - (height, width) with dtype - uint8\n",
        "    # output -> filtered_image - Filtered images (P_T > 99%) - type -> np.ndarray, size of - (height, width) with dtype - uint8\n",
        "\n",
        "\n",
        "    # TO DO : Apply a Gaussian low pass filter with minimum cutoff frequency (C) maintaining the image power > 99%\n",
        "    filtered_image = np.zeros_like(gray_image)\n",
        "\n",
        "\n",
        "\n",
        "\n",
        "    return filtered_image\n",
        "\n",
        "\n",
        "\n",
        "# Do not add anything outside the function in the submission"
      ],
      "metadata": {
        "id": "dUhTWhPRA7F7"
      },
      "execution_count": null,
      "outputs": []
    },
    {
      "cell_type": "markdown",
      "source": [
        "# Test your function here"
      ],
      "metadata": {
        "id": "CwxdeX2ujmf4"
      }
    },
    {
      "cell_type": "code",
      "source": [
        "# test homework2_1\n",
        "img = cv2.imread('kitty55.png',0)\n",
        "print(img.shape)\n",
        "out = homework2_1(img)\n",
        "plt.imshow(out,cmap='gray')\n",
        "plt.show()\n"
      ],
      "metadata": {
        "id": "uSfHb0kZj_0y"
      },
      "execution_count": null,
      "outputs": []
    },
    {
      "cell_type": "markdown",
      "source": [
        "# **Practice (Do not submit)**"
      ],
      "metadata": {
        "id": "Ad3UsK0tG3vE"
      }
    },
    {
      "cell_type": "markdown",
      "source": [
        "## 4."
      ],
      "metadata": {
        "id": "aeGghVKzIP6j"
      }
    },
    {
      "cell_type": "code",
      "source": [
        "# homework2_4 --> do not modify/delete this first line and do not add anything before this line\n",
        "# import library for 2.4\n",
        "import cv2\n",
        "import numpy as np\n",
        "import matplotlib.pyplot as plt\n",
        "from skimage.metrics import structural_similarity as ssim\n",
        "\n",
        "\n",
        "def homework2_4(org_image,blur_image):\n",
        "    # input -> org_image - a grayscale image with type -> np.ndarray, size of - (height, width) with dtype - uint8\n",
        "    #       -> blur_image - a degraded image with type -> np.ndarray, size of - (height, width) with dtype - uint8\n",
        "    # output -> restored_image - restored image (grayscale) using wiener filter - type -> np.ndarray, size of - (height, width) with dtype - uint8\n",
        "    #         -> SSIM - compared image\n",
        "\n",
        "    # TO DO - Restore an image using wiener filter\n",
        "    restored_image = np.zeros_like(org_image)\n",
        "    SSIM = 0\n",
        "\n",
        "\n",
        "    return restored_image, SSIM\n",
        "\n",
        "\n",
        "\n",
        "# Do not add anything outside the function in the submission"
      ],
      "metadata": {
        "id": "zNjfZ3-TZ8ts"
      },
      "execution_count": null,
      "outputs": []
    },
    {
      "cell_type": "code",
      "source": [
        "# test homework2_4\n",
        "org_image = cv2.imread(\"clean_cat.png\",0)\n",
        "blur_image = cv2.imread(\"blurry_noisy_cat.png\",0)\n",
        "restored_image, SSIM = homework2_4(org_image,blur_image)\n",
        "plt.imshow(blur_image,cmap='gray')\n",
        "plt.show()\n",
        "plt.imshow(restored_image,cmap='gray')\n",
        "plt.title('SSIM ='+ str(SSIM))\n",
        "plt.show()"
      ],
      "metadata": {
        "id": "6U-WPrh9lPgn"
      },
      "execution_count": null,
      "outputs": []
    },
    {
      "cell_type": "markdown",
      "source": [
        "## 5."
      ],
      "metadata": {
        "id": "blEtP7ibINvW"
      }
    },
    {
      "cell_type": "code",
      "source": [
        "!pip install PyWavelets"
      ],
      "metadata": {
        "id": "Sh7mUYEIJwDk"
      },
      "execution_count": null,
      "outputs": []
    },
    {
      "cell_type": "code",
      "source": [
        "# homework2_5 --> do not modify/delete this first line and do not add anything before this line\n",
        "# import library for 2.5\n",
        "import cv2\n",
        "import numpy as np\n",
        "import matplotlib.pyplot as plt\n",
        "import pywt\n",
        "# you can add more library here\n",
        "\n",
        "\n",
        "\n",
        "def homework2_5(rgb_image):\n",
        "  # input -> rgb_image - type -> np.ndarray, size of - (height, width,3) with dtype - uint8\n",
        "  # output -> blur_image - half blur image in Grayscale or RGB colors\n",
        "\n",
        "\n",
        "\n",
        "  # TO DO : generate and return the right half blur image using Wavelet\n",
        "  half_blur_image = np.zeros_like(rgb_image)\n",
        "\n",
        "\n",
        "  return half_blur_image\n",
        "\n",
        "# Do not add anything outside the function in the submission"
      ],
      "metadata": {
        "id": "xgJHuNN8iBhU"
      },
      "execution_count": null,
      "outputs": []
    },
    {
      "cell_type": "code",
      "source": [
        "# test homework2_5\n",
        "rgb = cv2.imread(\"moodeng.jpg\")\n",
        "blur_image = homework2_5(rgb[:,:,::-1])\n",
        "plt.imshow(rgb[:,:,::-1])\n",
        "plt.show()\n",
        "plt.imshow(blur_image,cmap='gray')\n",
        "plt.show()"
      ],
      "metadata": {
        "id": "r8SUrklhlW7L"
      },
      "execution_count": null,
      "outputs": []
    }
  ]
}